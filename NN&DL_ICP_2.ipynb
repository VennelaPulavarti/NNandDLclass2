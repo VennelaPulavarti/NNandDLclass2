{
  "nbformat": 4,
  "nbformat_minor": 0,
  "metadata": {
    "colab": {
      "provenance": [],
      "mount_file_id": "1vszYKYsIIv9kwtN-lXH4pBfQRpXaEy_E",
      "authorship_tag": "ABX9TyPibvdk4tB8jDQj04g4Xhfj",
      "include_colab_link": true
    },
    "kernelspec": {
      "name": "python3",
      "display_name": "Python 3"
    },
    "language_info": {
      "name": "python"
    }
  },
  "cells": [
    {
      "cell_type": "markdown",
      "metadata": {
        "id": "view-in-github",
        "colab_type": "text"
      },
      "source": [
        "<a href=\"https://colab.research.google.com/github/VennelaPulavarti/NNandDLclass2/blob/main/NN%26DL_ICP_2.ipynb\" target=\"_parent\"><img src=\"https://colab.research.google.com/assets/colab-badge.svg\" alt=\"Open In Colab\"/></a>"
      ]
    },
    {
      "cell_type": "markdown",
      "source": [],
      "metadata": {
        "id": "QR6jh2LmfXuM"
      }
    },
    {
      "cell_type": "code",
      "execution_count": null,
      "metadata": {
        "colab": {
          "base_uri": "https://localhost:8080/"
        },
        "id": "pdpq6eWAeMbt",
        "outputId": "b599d49f-ddc3-442a-e7c5-72fa7bd7447e"
      },
      "outputs": [
        {
          "output_type": "stream",
          "name": "stdout",
          "text": [
            "Enter first name \n",
            "Vennela\n",
            "Enter last name \n",
            "Pulavarti\n",
            "full name :  Vennela Pulavarti\n",
            "alternate letters :  VneaPlvri\n"
          ]
        }
      ],
      "source": [
        "# QUE 1\n",
        "\n",
        "first_name = input(\"Enter first name \\n\")\n",
        "last_name = input(\"Enter last name \\n\")\n",
        "\n",
        "def string_alternative(name):\n",
        "    return (name[::2])\n",
        "\n",
        "def fullName(first_name, last_name):\n",
        "    name = first_name + \" \" + last_name\n",
        "    print (\"full name : \", name)\n",
        "    sa = string_alternative(name)\n",
        "    print(\"alternate letters : \", sa)\n",
        "\n",
        "\n",
        "fullName(first_name, last_name)\n"
      ]
    },
    {
      "cell_type": "code",
      "source": [
        "# QUE 2\n",
        "\n",
        "from collections import Counter\n",
        "# to read file\n",
        "with open('/content/drive/My Drive/input.txt', 'r') as ipFile:\n",
        "    lines = ipFile.readlines()\n",
        "\n",
        "opLines = []\n",
        "\n",
        "#file1.close()\n",
        "listOfWords = []\n",
        "\n",
        "for line in lines:\n",
        "    opLines.append(line)\n",
        "    line = line.strip()\n",
        "    listOfWords.extend(line.split(\" \"))\n",
        "\n",
        "opLines.append(\"Word_Count:\")\n",
        "elementsCount = Counter(listOfWords)\n",
        "\n",
        "# to count occurance of each word\n",
        "for ele, count in elementsCount.items():\n",
        "  opLines.append(f\"{ele} - Count: {count}\")\n",
        "\n",
        "# to add content in file\n",
        "with open('/content/drive/My Drive/outputFile.txt', 'w') as opFile:\n",
        "    for line in opLines:\n",
        "        opFile.write(line + '\\n')\n",
        "\n",
        "ipFile.close()\n",
        "opFile.close()"
      ],
      "metadata": {
        "id": "Hww7hAvei7RU"
      },
      "execution_count": null,
      "outputs": []
    },
    {
      "cell_type": "code",
      "source": [
        "# QUE 3\n",
        "\n",
        "inches = list(map(int, input().split(\" \")))\n",
        "cmList = []\n",
        "cm_comprehensions = []\n",
        "\n",
        "# Nested Interactive loop method\n",
        "for each in inches :\n",
        "    cm  = 2.54 * each\n",
        "    cmList.append(cm)\n",
        "\n",
        "print (\"Height in cm - Nested Interactive loop method \\n\", cmList)\n",
        "\n",
        "# List Comprehension method\n",
        "cm_comprehensions = [(height * 2.54) for height in inches]\n",
        "\n",
        "print (\"Height in cm - List Comprehension method \\n\", cm_comprehensions)"
      ],
      "metadata": {
        "colab": {
          "base_uri": "https://localhost:8080/"
        },
        "id": "xovHWxsMjAvV",
        "outputId": "5949ea72-6f28-4e75-e34a-42f4d631179b"
      },
      "execution_count": null,
      "outputs": [
        {
          "output_type": "stream",
          "name": "stdout",
          "text": [
            "65 68 58 70 56\n",
            "Height in cm - Nested Interactive loop method \n",
            " [165.1, 172.72, 147.32, 177.8, 142.24]\n",
            "Height in cm - List Comprehension method \n",
            " [165.1, 172.72, 147.32, 177.8, 142.24]\n"
          ]
        }
      ]
    }
  ]
}